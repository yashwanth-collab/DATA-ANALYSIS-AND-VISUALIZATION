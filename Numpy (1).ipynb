{
  "cells": [
    {
      "cell_type": "code",
      "execution_count": null,
      "id": "715c479f",
      "metadata": {
        "colab": {
          "base_uri": "https://localhost:8080/"
        },
        "id": "715c479f",
        "outputId": "e7a65158-794a-4cab-b384-4a60ed7395cc"
      },
      "outputs": [
        {
          "output_type": "stream",
          "name": "stdout",
          "text": [
            "Requirement already satisfied: numpy in /usr/local/lib/python3.11/dist-packages (2.0.2)\n"
          ]
        }
      ],
      "source": [
        "%pip install numpy\n"
      ]
    },
    {
      "cell_type": "code",
      "execution_count": null,
      "id": "3e80cb8b",
      "metadata": {
        "id": "3e80cb8b"
      },
      "outputs": [],
      "source": [
        "import numpy as np"
      ]
    },
    {
      "cell_type": "markdown",
      "id": "32f36158",
      "metadata": {
        "id": "32f36158"
      },
      "source": [
        "# Numpy"
      ]
    },
    {
      "cell_type": "markdown",
      "id": "a980fc96",
      "metadata": {
        "id": "a980fc96"
      },
      "source": [
        "- *NumPy stands for Numerical Python.*\n",
        "* *NumPy was created in 2005 by Travis Oliphant. It is an open source project and you can use it freely.*\n",
        "* *NumPy is the fundamental package for scientific computing in Python.*\n",
        "* *NumPy is a Python library used for working with arrays.*\n",
        "* *It is a Python library that provides a multidimensional array object, various derived objects (such as masked arrays and matrices), and an assortment of routines for fast operations on arrays, including mathematical, logical, shape manipulation, sorting, selecting, I/O, discrete Fourier transforms, basic linear algebra, basic statistical operations, random simulation and much more.*"
      ]
    },
    {
      "cell_type": "markdown",
      "source": [],
      "metadata": {
        "id": "EXjTwt4zm8Mf"
      },
      "id": "EXjTwt4zm8Mf"
    },
    {
      "cell_type": "markdown",
      "id": "1f557941",
      "metadata": {
        "id": "1f557941"
      },
      "source": [
        "## Why Numpy?"
      ]
    },
    {
      "cell_type": "markdown",
      "id": "c4dda4f3",
      "metadata": {
        "id": "c4dda4f3"
      },
      "source": [
        "* *In Python we have lists that serve the purpose of arrays, but they are slow to process.*\n",
        "* *NumPy arrays are stored at one continuous place in memory unlike lists, so processes can access and manipulate them very efficiently.*\n",
        "* *This is the main reason why NumPy is faster than lists. Also it is optimized to work with latest CPU architectures.*"
      ]
    },
    {
      "cell_type": "markdown",
      "id": "7c6d19ce",
      "metadata": {
        "id": "7c6d19ce"
      },
      "source": [
        "#### Importing Numpy"
      ]
    },
    {
      "cell_type": "markdown",
      "id": "6c4c784c",
      "metadata": {
        "id": "6c4c784c"
      },
      "source": [
        "*Once NumPy is installed, import it in your applications by adding the `import` keyword:*"
      ]
    },
    {
      "cell_type": "code",
      "execution_count": null,
      "id": "db86ee6e",
      "metadata": {
        "id": "db86ee6e"
      },
      "outputs": [],
      "source": [
        "import numpy"
      ]
    },
    {
      "cell_type": "markdown",
      "id": "11bf7413",
      "metadata": {
        "id": "11bf7413"
      },
      "source": [
        "*Now NumPy is imported and ready to use.*"
      ]
    },
    {
      "cell_type": "markdown",
      "id": "d062ce10",
      "metadata": {
        "id": "d062ce10"
      },
      "source": [
        "#### NumPy as np\n"
      ]
    },
    {
      "cell_type": "markdown",
      "id": "c31ccf90",
      "metadata": {
        "id": "c31ccf90"
      },
      "source": [
        "*`NumPy` is usually imported under the `np` alias.*\n",
        "\n",
        "*Create an alias with the `as` keyword while importing.*\n",
        "\n",
        "*Now the NumPy package can be referred to as `np` instead of `numpy`.*"
      ]
    },
    {
      "cell_type": "code",
      "execution_count": null,
      "id": "30dd2a53",
      "metadata": {
        "id": "30dd2a53"
      },
      "outputs": [],
      "source": [
        "import numpy as np"
      ]
    },
    {
      "cell_type": "markdown",
      "id": "39bb146c",
      "metadata": {
        "id": "39bb146c"
      },
      "source": [
        "####  Checking NumPy Version"
      ]
    },
    {
      "cell_type": "markdown",
      "id": "d1fb2058",
      "metadata": {
        "id": "d1fb2058"
      },
      "source": [
        "*The version string is stored under `__version__` attribute.*"
      ]
    },
    {
      "cell_type": "code",
      "execution_count": null,
      "id": "c166a848",
      "metadata": {
        "colab": {
          "base_uri": "https://localhost:8080/"
        },
        "id": "c166a848",
        "outputId": "3e9b4c69-0acd-44ab-90b5-1803b4ca9a4a"
      },
      "outputs": [
        {
          "output_type": "stream",
          "name": "stdout",
          "text": [
            "2.0.2\n"
          ]
        }
      ],
      "source": [
        "print(np.__version__)"
      ]
    },
    {
      "cell_type": "markdown",
      "id": "1cd57e34",
      "metadata": {
        "id": "1cd57e34"
      },
      "source": [
        "#  NumPy Creating Arrays"
      ]
    },
    {
      "cell_type": "markdown",
      "id": "87ae8034",
      "metadata": {
        "id": "87ae8034"
      },
      "source": [
        "*NumPy is used to work with arrays. The array object in NumPy is called `ndarray`.*\n",
        "\n",
        "*We can create a NumPy `ndarray` object by using the `array()` function.*\n",
        "\n",
        "*To create an ndarray, we can pass a list, tuple or any array-like object into the `array()` method, and it will be converted into an ndarray:*"
      ]
    },
    {
      "cell_type": "code",
      "execution_count": null,
      "id": "cec7c515",
      "metadata": {
        "colab": {
          "base_uri": "https://localhost:8080/"
        },
        "id": "cec7c515",
        "outputId": "9c442bfc-fd0d-4ef6-a99a-09d24eb43a6a"
      },
      "outputs": [
        {
          "output_type": "stream",
          "name": "stdout",
          "text": [
            "[1 2 3 4 5]\n",
            "<class 'numpy.ndarray'>\n"
          ]
        }
      ],
      "source": [
        "arr = np.array([1, 2, 3, 4, 5])\n",
        "print(arr)\n",
        "print(type(arr))"
      ]
    },
    {
      "cell_type": "markdown",
      "id": "d64a345d",
      "metadata": {
        "id": "d64a345d"
      },
      "source": [
        "#  Dimensions in Arrays"
      ]
    },
    {
      "cell_type": "markdown",
      "id": "46103d12",
      "metadata": {
        "id": "46103d12"
      },
      "source": [
        "*A dimension in arrays is one level of array depth (nested arrays).*\n",
        "\n",
        "![numpy_array_t.png](attachment:numpy_array_t.png)"
      ]
    },
    {
      "cell_type": "markdown",
      "id": "98b11431",
      "metadata": {
        "id": "98b11431"
      },
      "source": [
        "### 0-D Arrays"
      ]
    },
    {
      "cell_type": "markdown",
      "id": "1b22e8b5",
      "metadata": {
        "id": "1b22e8b5"
      },
      "source": [
        "*0-D arrays, or Scalars, are the elements in an array. Each value in an array is a 0-D array*"
      ]
    },
    {
      "cell_type": "code",
      "execution_count": null,
      "id": "67627aa7",
      "metadata": {
        "colab": {
          "base_uri": "https://localhost:8080/"
        },
        "id": "67627aa7",
        "outputId": "0dc492ab-a7bc-48de-ee15-7af8fdec8e77"
      },
      "outputs": [
        {
          "output_type": "stream",
          "name": "stdout",
          "text": [
            "42\n"
          ]
        }
      ],
      "source": [
        "arr = np.array(42)\n",
        "print(arr)"
      ]
    },
    {
      "cell_type": "markdown",
      "id": "f5f1061f",
      "metadata": {
        "id": "f5f1061f"
      },
      "source": [
        "###  1-D Arrays"
      ]
    },
    {
      "cell_type": "markdown",
      "id": "276f8143",
      "metadata": {
        "id": "276f8143"
      },
      "source": [
        "*An array that has 0-D arrays as its elements is called uni-dimensional or 1-D array.*\n",
        "\n",
        "*These are the most common and basic arrays.*\n"
      ]
    },
    {
      "cell_type": "code",
      "execution_count": null,
      "id": "0e6c43d9",
      "metadata": {
        "colab": {
          "base_uri": "https://localhost:8080/"
        },
        "id": "0e6c43d9",
        "outputId": "26462a3f-b51e-4b00-f4bd-d94518979326"
      },
      "outputs": [
        {
          "output_type": "stream",
          "name": "stdout",
          "text": [
            "[1 2 3 4 5]\n"
          ]
        }
      ],
      "source": [
        "arr = np.array([1, 2, 3, 4, 5])\n",
        "print(arr)"
      ]
    },
    {
      "cell_type": "markdown",
      "id": "614ee003",
      "metadata": {
        "id": "614ee003"
      },
      "source": [
        "###  2-D Arrays"
      ]
    },
    {
      "cell_type": "markdown",
      "id": "7e309254",
      "metadata": {
        "id": "7e309254"
      },
      "source": [
        "*An array that has 1-D arrays as its elements is called a 2-D array.*\n",
        "\n",
        "*These are often used to represent matrix or 2nd order tensors.*"
      ]
    },
    {
      "cell_type": "code",
      "execution_count": null,
      "id": "9dbd0d23",
      "metadata": {
        "colab": {
          "base_uri": "https://localhost:8080/"
        },
        "id": "9dbd0d23",
        "outputId": "f62afc13-8772-4836-f22a-f73fe75870c2"
      },
      "outputs": [
        {
          "output_type": "stream",
          "name": "stdout",
          "text": [
            "[[1 2 3]\n",
            " [4 5 6]]\n"
          ]
        }
      ],
      "source": [
        "arr = np.array([[1, 2, 3],\n",
        "                [4, 5, 6]])\n",
        "print(arr)"
      ]
    },
    {
      "cell_type": "markdown",
      "id": "51508452",
      "metadata": {
        "id": "51508452"
      },
      "source": [
        "###  3-D arrays"
      ]
    },
    {
      "cell_type": "markdown",
      "id": "7e6011c2",
      "metadata": {
        "id": "7e6011c2"
      },
      "source": [
        "*An array that has 2-D arrays (matrices) as its elements is called 3-D array.*"
      ]
    },
    {
      "cell_type": "code",
      "execution_count": null,
      "id": "5fcb43b2",
      "metadata": {
        "colab": {
          "base_uri": "https://localhost:8080/"
        },
        "id": "5fcb43b2",
        "outputId": "5b67aa30-d06d-4045-b6ed-1d8540cb5b72"
      },
      "outputs": [
        {
          "output_type": "stream",
          "name": "stdout",
          "text": [
            "[[[1 2 3]\n",
            "  [4 5 6]]\n",
            "\n",
            " [[1 2 3]\n",
            "  [4 5 6]]]\n"
          ]
        }
      ],
      "source": [
        "arr = np.array([[[1, 2, 3], [4, 5, 6]], [[1, 2, 3], [4, 5, 6]]])\n",
        "print(arr)"
      ]
    },
    {
      "cell_type": "markdown",
      "id": "c329ffdd",
      "metadata": {
        "id": "c329ffdd"
      },
      "source": [
        "###  Higher Dimensional Arrays"
      ]
    },
    {
      "cell_type": "markdown",
      "id": "8e4acdd2",
      "metadata": {
        "id": "8e4acdd2"
      },
      "source": [
        "*An array can have any number of dimensions.*\n",
        "\n",
        "*When the array is created, you can define the number of dimensions by using the `ndmin` argument.*"
      ]
    },
    {
      "cell_type": "code",
      "execution_count": null,
      "id": "63b608f4",
      "metadata": {
        "colab": {
          "base_uri": "https://localhost:8080/"
        },
        "id": "63b608f4",
        "outputId": "ccb70224-c38c-4a30-8b47-6de0a0267875"
      },
      "outputs": [
        {
          "output_type": "stream",
          "name": "stdout",
          "text": [
            "[[[[[1 2 3 4]]]]]\n",
            "number of dimensions : 5\n"
          ]
        }
      ],
      "source": [
        "arr = np.array([1, 2, 3, 4], ndmin=5)\n",
        "print(arr)\n",
        "print('number of dimensions :', arr.ndim)"
      ]
    },
    {
      "cell_type": "markdown",
      "id": "18b4f653",
      "metadata": {
        "id": "18b4f653"
      },
      "source": [
        "##  NumPy - Data Types"
      ]
    },
    {
      "cell_type": "markdown",
      "id": "5911972f",
      "metadata": {
        "id": "5911972f"
      },
      "source": [
        "*NumPy supports a much greater variety of numerical types than Python does. *"
      ]
    },
    {
      "cell_type": "markdown",
      "id": "3b13cbfb",
      "metadata": {
        "id": "3b13cbfb"
      },
      "source": [
        "*Each built-in data type has a character code that uniquely identifies it.*\n",
        "\n",
        "* 'b' − boolean\n",
        "\n",
        "* 'i' − (signed) integer\n",
        "\n",
        "* 'u' − unsigned integer\n",
        "\n",
        "* 'f' − floating-point\n",
        "\n",
        "* 'c' − complex-floating point\n",
        "\n",
        "* 'm' − timedelta\n",
        "\n",
        "* 'M' − datetime\n",
        "\n",
        "* 'O' − (Python) objects\n",
        "\n",
        "* 'S', 'a' − (byte-)string\n",
        "\n",
        "* 'U' − Unicode\n",
        "\n",
        "* 'V' − raw data (void)"
      ]
    },
    {
      "cell_type": "markdown",
      "id": "23c61835",
      "metadata": {
        "id": "23c61835"
      },
      "source": [
        "#### Checking the Data Type of an Array"
      ]
    },
    {
      "cell_type": "markdown",
      "id": "84f37f22",
      "metadata": {
        "id": "84f37f22"
      },
      "source": [
        "*The NumPy array object has a property called `dtype` that returns the data type of the array:*"
      ]
    },
    {
      "cell_type": "code",
      "execution_count": null,
      "id": "446d8938",
      "metadata": {
        "colab": {
          "base_uri": "https://localhost:8080/"
        },
        "id": "446d8938",
        "outputId": "ad4c19ee-0883-45f9-9a26-704826f836c3"
      },
      "outputs": [
        {
          "output_type": "stream",
          "name": "stdout",
          "text": [
            "int64\n"
          ]
        }
      ],
      "source": [
        "arr = np.array([1, 2, 3, 4])\n",
        "print(arr.dtype)"
      ]
    },
    {
      "cell_type": "code",
      "execution_count": null,
      "id": "de4d33fe",
      "metadata": {
        "colab": {
          "base_uri": "https://localhost:8080/"
        },
        "id": "de4d33fe",
        "outputId": "a91620c0-5a1f-4bda-8e15-d7c59cba3710"
      },
      "outputs": [
        {
          "output_type": "stream",
          "name": "stdout",
          "text": [
            "<U6\n"
          ]
        }
      ],
      "source": [
        "arr = np.array(['apple', 'banana', 'cherry'])\n",
        "print(arr.dtype)"
      ]
    },
    {
      "cell_type": "markdown",
      "id": "3b49eccc",
      "metadata": {
        "id": "3b49eccc"
      },
      "source": [
        "##  NumPy - Array Attributes"
      ]
    },
    {
      "cell_type": "markdown",
      "id": "98aef2ea",
      "metadata": {
        "id": "98aef2ea"
      },
      "source": [
        "###  1. ndarray.shape"
      ]
    },
    {
      "cell_type": "markdown",
      "id": "1736ed11",
      "metadata": {
        "id": "1736ed11"
      },
      "source": [
        "*NumPy arrays have an attribute called `shape` that returns a tuple with each index having the number of corresponding elements. It can also be used to resize the array.*"
      ]
    },
    {
      "cell_type": "code",
      "execution_count": null,
      "id": "c923f516",
      "metadata": {
        "colab": {
          "base_uri": "https://localhost:8080/"
        },
        "id": "c923f516",
        "outputId": "4200cb42-8c84-444d-9947-43fa7d541315"
      },
      "outputs": [
        {
          "output_type": "stream",
          "name": "stdout",
          "text": [
            "[[1 2 3]\n",
            " [4 5 6]]\n",
            "(2, 3)\n"
          ]
        }
      ],
      "source": [
        "a = np.array([[1,2,3],[4,5,6]])\n",
        "print(a)\n",
        "print(a.shape)"
      ]
    },
    {
      "cell_type": "markdown",
      "id": "160d0661",
      "metadata": {
        "id": "160d0661"
      },
      "source": [
        "#### a) Reshaping arrays  "
      ]
    },
    {
      "cell_type": "markdown",
      "id": "34136138",
      "metadata": {
        "id": "34136138"
      },
      "source": [
        "*Reshaping means changing the shape of an array.*\n",
        "\n",
        "*The shape of an array is the number of elements in each dimension.*\n",
        "\n",
        "*By reshaping we can add or remove dimensions or change number of elements in each dimension.*"
      ]
    },
    {
      "cell_type": "code",
      "execution_count": null,
      "id": "961577a2",
      "metadata": {
        "colab": {
          "base_uri": "https://localhost:8080/"
        },
        "id": "961577a2",
        "outputId": "0ae5892b-f006-47a5-d829-b3b3cdb17f31"
      },
      "outputs": [
        {
          "output_type": "stream",
          "name": "stdout",
          "text": [
            "[[1 2]\n",
            " [3 4]\n",
            " [5 6]]\n"
          ]
        }
      ],
      "source": [
        "a = np.array([[1,2,3],[4,5,6]])\n",
        "a.shape = (3,2)\n",
        "print(a)"
      ]
    },
    {
      "cell_type": "markdown",
      "id": "30b79265",
      "metadata": {
        "id": "30b79265"
      },
      "source": [
        "### ndarray.reshape"
      ]
    },
    {
      "cell_type": "markdown",
      "id": "d96035dd",
      "metadata": {
        "id": "d96035dd"
      },
      "source": [
        "*NumPy also provides a `reshape` function to resize an array.*"
      ]
    },
    {
      "cell_type": "code",
      "execution_count": null,
      "id": "4d048f5c",
      "metadata": {
        "colab": {
          "base_uri": "https://localhost:8080/"
        },
        "id": "4d048f5c",
        "outputId": "b5c6b539-e8b5-4bbe-f08d-be38ab21f6b9"
      },
      "outputs": [
        {
          "output_type": "stream",
          "name": "stdout",
          "text": [
            "[[ 1  2  3]\n",
            " [ 4  5  6]\n",
            " [ 7  8  9]\n",
            " [10 11 12]]\n"
          ]
        }
      ],
      "source": [
        "arr = np.array([1, 2, 3, 4, 5, 6, 7, 8, 9, 10, 11, 12])\n",
        "newarr = arr.reshape(4, 3)\n",
        "print(newarr)"
      ]
    },
    {
      "cell_type": "markdown",
      "id": "8a4b4f50",
      "metadata": {
        "id": "8a4b4f50"
      },
      "source": [
        "*Converting 1D array with 8 elements to a 2D array with 3 elements in each dimension (will raise an error)*"
      ]
    },
    {
      "cell_type": "code",
      "execution_count": null,
      "id": "88906e85",
      "metadata": {
        "colab": {
          "base_uri": "https://localhost:8080/"
        },
        "id": "88906e85",
        "outputId": "3072e9cc-21a0-48dc-98af-e112fe1b8482"
      },
      "outputs": [
        {
          "output_type": "stream",
          "name": "stdout",
          "text": [
            "[[1 2 3]\n",
            " [4 5 6]\n",
            " [7 8 9]]\n"
          ]
        }
      ],
      "source": [
        "arr = np.array([1, 2, 3, 4, 5, 6, 7, 8, 9])\n",
        "newarr = arr.reshape(3, 3)\n",
        "print(newarr)"
      ]
    },
    {
      "cell_type": "markdown",
      "id": "00021489",
      "metadata": {
        "id": "00021489"
      },
      "source": [
        "### 2. ndarray.ndim"
      ]
    },
    {
      "cell_type": "markdown",
      "id": "2f59166b",
      "metadata": {
        "id": "2f59166b"
      },
      "source": [
        "*NumPy Arrays provides the `ndim` attribute that returns an integer that tells us how many dimensions the array have.*"
      ]
    },
    {
      "cell_type": "code",
      "execution_count": null,
      "id": "518eb606",
      "metadata": {
        "colab": {
          "base_uri": "https://localhost:8080/"
        },
        "id": "518eb606",
        "outputId": "2bb95958-d12c-4b2a-f27a-125d399ac8fb"
      },
      "outputs": [
        {
          "output_type": "stream",
          "name": "stdout",
          "text": [
            "0\n",
            "1\n",
            "2\n",
            "3\n"
          ]
        }
      ],
      "source": [
        "a = np.array(42)\n",
        "b = np.array([1, 2, 3, 4, 5])\n",
        "c = np.array([[1, 2, 3], [4, 5, 6]])\n",
        "d = np.array([[[1, 2, 3], [4, 5, 6]], [[1, 2, 3], [4, 5, 6]]])\n",
        "\n",
        "print(a.ndim)\n",
        "print(b.ndim)\n",
        "print(c.ndim)\n",
        "print(d.ndim)"
      ]
    },
    {
      "cell_type": "markdown",
      "id": "49c3ab7f",
      "metadata": {
        "id": "49c3ab7f"
      },
      "source": [
        "### 3. numpy.itemsize"
      ]
    },
    {
      "cell_type": "markdown",
      "id": "854cf5eb",
      "metadata": {
        "id": "854cf5eb"
      },
      "source": [
        "*This array attribute returns the length of each element of array in bytes.*"
      ]
    },
    {
      "cell_type": "code",
      "execution_count": null,
      "id": "77c624bb",
      "metadata": {
        "colab": {
          "base_uri": "https://localhost:8080/"
        },
        "id": "77c624bb",
        "outputId": "6c0f2cdc-3b23-4a65-b1fc-c52aa303004e"
      },
      "outputs": [
        {
          "output_type": "stream",
          "name": "stdout",
          "text": [
            "8\n",
            "8\n",
            "8\n",
            "8\n"
          ]
        }
      ],
      "source": [
        "a = np.array(42)\n",
        "b = np.array([1, 2, 3, 4, 5])\n",
        "c = np.array([[1, 2, 3], [4, 5, 6]])\n",
        "d = np.array([[[1, 2, 3], [4, 5, 6]], [[1, 2, 3], [4, 5, 6]]])\n",
        "\n",
        "print(a.itemsize)\n",
        "print(b.itemsize)\n",
        "print(c.itemsize)\n",
        "print(d.itemsize)"
      ]
    },
    {
      "cell_type": "markdown",
      "id": "a035aeab",
      "metadata": {
        "id": "a035aeab"
      },
      "source": [
        "### 3.  ndarray.size()"
      ]
    },
    {
      "cell_type": "markdown",
      "id": "96f702b2",
      "metadata": {
        "id": "96f702b2"
      },
      "source": [
        "*In Python, `numpy.size()` function count the number of elements along a given axis.*"
      ]
    },
    {
      "cell_type": "code",
      "execution_count": null,
      "id": "7d6914a4",
      "metadata": {
        "colab": {
          "base_uri": "https://localhost:8080/"
        },
        "id": "7d6914a4",
        "outputId": "47e2096f-fb51-4002-a87d-397e11d08817"
      },
      "outputs": [
        {
          "output_type": "stream",
          "name": "stdout",
          "text": [
            "1\n",
            "5\n",
            "6\n",
            "12\n"
          ]
        }
      ],
      "source": [
        "a = np.array(42)\n",
        "b = np.array([1, 2, 3, 4, 5])\n",
        "c = np.array([[1, 2, 3], [4, 5, 6]])\n",
        "d = np.array([[[1, 2, 3], [4, 5, 6]], [[1, 2, 3], [4, 5, 6]]])\n",
        "\n",
        "print(a.size)\n",
        "print(b.size)\n",
        "print(c.size)\n",
        "print(d.size)"
      ]
    },
    {
      "cell_type": "markdown",
      "id": "4bb19a36",
      "metadata": {
        "id": "4bb19a36"
      },
      "source": [
        "### 4.  ndarray.nbytes"
      ]
    },
    {
      "cell_type": "markdown",
      "id": "3d5c6ce9",
      "metadata": {
        "id": "3d5c6ce9"
      },
      "source": [
        "*`ndarray.nbytes()` function return total bytes consumed by the elements of the array.*"
      ]
    },
    {
      "cell_type": "code",
      "execution_count": null,
      "id": "0efc8c2f",
      "metadata": {
        "colab": {
          "base_uri": "https://localhost:8080/"
        },
        "id": "0efc8c2f",
        "outputId": "9bd95791-1596-4ff5-f81b-62c0b301b7fa"
      },
      "outputs": [
        {
          "output_type": "stream",
          "name": "stdout",
          "text": [
            "8\n",
            "40\n",
            "48\n",
            "96\n"
          ]
        }
      ],
      "source": [
        "a = np.array(42)\n",
        "b = np.array([1, 2, 3, 4, 5])\n",
        "c = np.array([[1, 2, 3], [4, 5, 6]])\n",
        "d = np.array([[[1, 2, 3], [4, 5, 6]], [[1, 2, 3], [4, 5, 6]]])\n",
        "\n",
        "print(a.nbytes)\n",
        "print(b.nbytes)\n",
        "print(c.nbytes)\n",
        "print(d.nbytes)"
      ]
    },
    {
      "cell_type": "markdown",
      "id": "e1a373ec",
      "metadata": {
        "id": "e1a373ec"
      },
      "source": [
        "# NumPy - Array Creation Routines"
      ]
    },
    {
      "cell_type": "markdown",
      "id": "22ccb8d1",
      "metadata": {
        "id": "22ccb8d1"
      },
      "source": [
        "*A new ndarray object can be constructed by any of the following array creation routines or using a low-level ndarray constructor.*"
      ]
    },
    {
      "cell_type": "markdown",
      "id": "8b1fc0b1",
      "metadata": {
        "id": "8b1fc0b1"
      },
      "source": [
        "### numpy.empty"
      ]
    },
    {
      "cell_type": "markdown",
      "id": "7dec9d81",
      "metadata": {
        "id": "7dec9d81"
      },
      "source": [
        "*It creates an uninitialized array of specified shape and dtype. It uses the following constructor −*\n",
        "\n",
        "*`numpy.empty(shape, dtype = float, order = 'C')`*"
      ]
    },
    {
      "cell_type": "markdown",
      "id": "860be75d",
      "metadata": {
        "id": "860be75d"
      },
      "source": [
        "##### The Constructor takes the following parameters:\n",
        "|S.No.|Parameter|Description|\n",
        "|-----|---------|-----------|\n",
        "|1|Shape|Shape of an empty array in int or tuple of int|\n",
        "|2|Dtype|Desired output data type.Optional|\n",
        "|3|Order|'C' for C-style row-major array, 'F' for FORTAN style column-major array|"
      ]
    },
    {
      "cell_type": "code",
      "execution_count": null,
      "id": "59b9626f",
      "metadata": {
        "colab": {
          "base_uri": "https://localhost:8080/"
        },
        "id": "59b9626f",
        "outputId": "2574ffce-5006-4ee3-a9a0-5a4e92429548"
      },
      "outputs": [
        {
          "output_type": "stream",
          "name": "stdout",
          "text": [
            "[[1 2]\n",
            " [3 4]\n",
            " [5 6]]\n"
          ]
        }
      ],
      "source": [
        "x = np.empty([3,2], dtype = int)\n",
        "print (x)"
      ]
    },
    {
      "cell_type": "markdown",
      "id": "02d62e60",
      "metadata": {
        "id": "02d62e60"
      },
      "source": [
        "*__Note__ − The elements in an array show random values as they are not initialized.*"
      ]
    },
    {
      "cell_type": "markdown",
      "id": "ec9fba0f",
      "metadata": {
        "id": "ec9fba0f"
      },
      "source": [
        "###  numpy.zeros"
      ]
    },
    {
      "cell_type": "markdown",
      "id": "8f5f449a",
      "metadata": {
        "id": "8f5f449a"
      },
      "source": [
        "*Returns a new array of specified size, filled with zeros.*\n",
        "\n",
        "*`numpy.zeros(shape, dtype = float, order = 'C')`*"
      ]
    },
    {
      "cell_type": "markdown",
      "id": "50a5d1c7",
      "metadata": {
        "id": "50a5d1c7"
      },
      "source": [
        "##### The Constructor takes the following parameters:\n",
        "|S.No.|Parameter|Description|\n",
        "|-----|---------|-----------|\n",
        "|1|Shape|Shape of an empty array in int or tuple of int|\n",
        "|2|Dtype|Desired output data type.Optional|\n",
        "|3|Order|'C' for C-style row-major array, 'F' for FORTAN style column-major array|"
      ]
    },
    {
      "cell_type": "code",
      "execution_count": null,
      "id": "9d4d1cd9",
      "metadata": {
        "colab": {
          "base_uri": "https://localhost:8080/"
        },
        "id": "9d4d1cd9",
        "outputId": "8cf2f197-e410-4e28-8153-79ef7cd5c1ca"
      },
      "outputs": [
        {
          "output_type": "stream",
          "name": "stdout",
          "text": [
            "[0 0 0 0 0]\n"
          ]
        }
      ],
      "source": [
        "x = np.zeros((5,), dtype = int)\n",
        "print (x)"
      ]
    },
    {
      "cell_type": "code",
      "execution_count": null,
      "id": "666774b0",
      "metadata": {
        "colab": {
          "base_uri": "https://localhost:8080/"
        },
        "id": "666774b0",
        "outputId": "cda1348f-0b54-49b3-88c4-265b68acfd7f"
      },
      "outputs": [
        {
          "output_type": "stream",
          "name": "stdout",
          "text": [
            "[[0. 0.]\n",
            " [0. 0.]]\n"
          ]
        }
      ],
      "source": [
        "x = np.zeros((2,2))\n",
        "print (x)"
      ]
    },
    {
      "cell_type": "markdown",
      "id": "2d6ca68c",
      "metadata": {
        "id": "2d6ca68c"
      },
      "source": [
        "###  numpy.ones"
      ]
    },
    {
      "cell_type": "markdown",
      "id": "280d63b6",
      "metadata": {
        "id": "280d63b6"
      },
      "source": [
        "*Returns a new array of specified size and type, filled with ones.*\n",
        "\n",
        "*`numpy.ones(shape, dtype = None, order = 'C')`*"
      ]
    },
    {
      "cell_type": "markdown",
      "id": "17c5f6dc",
      "metadata": {
        "id": "17c5f6dc"
      },
      "source": [
        "##### The Constructor takes the following parameters:\n",
        "|S.No.|Parameter|Description|\n",
        "|-----|---------|-----------|\n",
        "|1|Shape|Shape of an empty array in int or tuple of int|\n",
        "|2|Dtype|Desired output data type.Optional|\n",
        "|3|Order|'C' for C-style row-major array, 'F' for FORTAN style column-major array|"
      ]
    },
    {
      "cell_type": "code",
      "execution_count": null,
      "id": "4a54f606",
      "metadata": {
        "colab": {
          "base_uri": "https://localhost:8080/"
        },
        "id": "4a54f606",
        "outputId": "5181153c-c616-4a5f-dd69-99073f5a4d35"
      },
      "outputs": [
        {
          "output_type": "stream",
          "name": "stdout",
          "text": [
            "[1. 1. 1. 1. 1.]\n"
          ]
        }
      ],
      "source": [
        "x = np.ones(5)\n",
        "print (x)"
      ]
    },
    {
      "cell_type": "code",
      "execution_count": null,
      "id": "647afe34",
      "metadata": {
        "colab": {
          "base_uri": "https://localhost:8080/"
        },
        "id": "647afe34",
        "outputId": "23eaa5fc-351b-4c63-e689-32e4bce90d9b"
      },
      "outputs": [
        {
          "output_type": "stream",
          "name": "stdout",
          "text": [
            "[[1 1]\n",
            " [1 1]]\n"
          ]
        }
      ],
      "source": [
        "import numpy as np\n",
        "x = np.ones([2,2], dtype = int)\n",
        "print (x)"
      ]
    },
    {
      "cell_type": "markdown",
      "id": "c757969b",
      "metadata": {
        "id": "c757969b"
      },
      "source": [
        "> *`np.empty()` is used to create empty array and the content of array is random and also depends on the state of memory. `empty()` is faster than `zeros()`. `empty()` will allocate random values if `zeros()` or `ones()` is not used before. Otherwise, it fills array with 0's or 1's based on the function used before. Allocation of values by `empty()` is completely based on the memory buffer.*"
      ]
    },
    {
      "cell_type": "markdown",
      "id": "086cb7ad",
      "metadata": {
        "id": "086cb7ad"
      },
      "source": [
        "### numpy.identity\n",
        "Return the identity array.\n",
        "The identity array is a square array with ones on the main diagonal.\n",
        "\n",
        "*`numpy.identity(n, dtype=None, *, like=None)`*"
      ]
    },
    {
      "cell_type": "code",
      "execution_count": null,
      "id": "3780b1a1",
      "metadata": {
        "scrolled": true,
        "colab": {
          "base_uri": "https://localhost:8080/"
        },
        "id": "3780b1a1",
        "outputId": "3082696d-c7a7-4e58-e657-5fc14f6bb892"
      },
      "outputs": [
        {
          "output_type": "execute_result",
          "data": {
            "text/plain": [
              "array([[1., 0., 0.],\n",
              "       [0., 1., 0.],\n",
              "       [0., 0., 1.]])"
            ]
          },
          "metadata": {},
          "execution_count": 62
        }
      ],
      "source": [
        "np.identity(3)"
      ]
    },
    {
      "cell_type": "markdown",
      "id": "d69c3cbf",
      "metadata": {
        "id": "d69c3cbf"
      },
      "source": [
        "### numpy.full"
      ]
    },
    {
      "cell_type": "markdown",
      "id": "34f28f95",
      "metadata": {
        "id": "34f28f95"
      },
      "source": [
        "*Return a new array of given shape and type, filled with fill_value.*\n",
        "\n",
        "*`numpy.full(shape, fill_value, dtype=None, order='C', *, like=None)`*\n"
      ]
    },
    {
      "cell_type": "code",
      "execution_count": null,
      "id": "cd5d1362",
      "metadata": {
        "scrolled": true,
        "colab": {
          "base_uri": "https://localhost:8080/"
        },
        "id": "cd5d1362",
        "outputId": "7c193ae0-2a1b-4ce6-9fc5-ef268ae470d5"
      },
      "outputs": [
        {
          "output_type": "execute_result",
          "data": {
            "text/plain": [
              "array([[10, 10],\n",
              "       [10, 10]])"
            ]
          },
          "metadata": {},
          "execution_count": 63
        }
      ],
      "source": [
        "np.full((2, 2), 10)"
      ]
    },
    {
      "cell_type": "markdown",
      "id": "7ac5dde5",
      "metadata": {
        "id": "7ac5dde5"
      },
      "source": [
        "### numpy.copy\n",
        "*Return an array copy of the given object*\n",
        "\n",
        "*`numpy.copy(a, order='K', subok=False)`*"
      ]
    },
    {
      "cell_type": "code",
      "execution_count": null,
      "id": "6b37f5bb",
      "metadata": {
        "colab": {
          "base_uri": "https://localhost:8080/"
        },
        "id": "6b37f5bb",
        "outputId": "b9001c0e-a646-45d0-8ee1-c6f7ba3817ec"
      },
      "outputs": [
        {
          "output_type": "stream",
          "name": "stdout",
          "text": [
            "[1 'm' list([10, 3, 4])]\n"
          ]
        }
      ],
      "source": [
        "a = np.array([1, 'm', [2, 3, 4]], dtype=object)\n",
        "b = np.copy(a)\n",
        "b[2][0] = 10\n",
        "print(a)"
      ]
    },
    {
      "cell_type": "markdown",
      "id": "5763d669",
      "metadata": {
        "id": "5763d669"
      },
      "source": [
        "### numpy.eye\n",
        "\n",
        "*Returns a 2-D array with ones on the diagonal and zeroes elsewhere*\n",
        "\n",
        "*`numpy.eye(N, M=None, k=0, dtype=<class 'float'>, order='C', *, like=None)`*"
      ]
    },
    {
      "cell_type": "code",
      "execution_count": null,
      "id": "3ee1d2b3",
      "metadata": {
        "colab": {
          "base_uri": "https://localhost:8080/"
        },
        "id": "3ee1d2b3",
        "outputId": "88c4c0a8-7f4c-48d2-8a56-7a8a15f5bb17"
      },
      "outputs": [
        {
          "output_type": "stream",
          "name": "stdout",
          "text": [
            "[[1. 0. 0. 0. 0.]\n",
            " [0. 1. 0. 0. 0.]\n",
            " [0. 0. 1. 0. 0.]]\n",
            "[[0 0 0 0 0]\n",
            " [1 0 0 0 0]\n",
            " [0 1 0 0 0]]\n"
          ]
        }
      ],
      "source": [
        "a = np.eye(3,5)\n",
        "b = np.eye(3,5,k = -1,dtype = int)\n",
        "print(a)\n",
        "print(b)"
      ]
    },
    {
      "cell_type": "markdown",
      "id": "b5c92ca1",
      "metadata": {
        "id": "b5c92ca1"
      },
      "source": [
        "### numpy.unique\n",
        "\n",
        "*Returns unique elements of array*\n",
        "\n",
        "*`numpy.unique(a,return_counts = None,return_index = None,return_inverse =None,axis = None,equal_nan = True)`*\n",
        "\n",
        "_return_index: also returns indices of the array that results in the unique array(index of first occurance of an element in array)_\n",
        "\n",
        "_return_counts: also returns no.of times each unique item appears in array_\n",
        "\n",
        "_return_inverse: also returns indices of unique array_"
      ]
    },
    {
      "cell_type": "code",
      "execution_count": null,
      "id": "45dac3c7",
      "metadata": {
        "colab": {
          "base_uri": "https://localhost:8080/"
        },
        "id": "45dac3c7",
        "outputId": "abedb9bb-31ef-4c8b-b6a0-1e05d5923766"
      },
      "outputs": [
        {
          "output_type": "stream",
          "name": "stdout",
          "text": [
            "[1 2 3 4 5]\n",
            "(array([1, 2, 3, 4, 5]), array([ 0,  1,  4,  8, 11]))\n",
            "(array([1, 2, 3, 4, 5]), array([1, 3, 4, 3, 1]))\n",
            "(array([1, 2, 3, 4, 5]), array([0, 1, 1, 1, 2, 2, 2, 2, 3, 3, 3, 4]))\n",
            "[1 2 3 4 5 6 7 8]\n",
            "[[1 2 3]\n",
            " [3 2 1]\n",
            " [4 5 6]\n",
            " [7 8 8]]\n",
            "[[1 2 3]\n",
            " [4 5 6]\n",
            " [3 2 1]\n",
            " [7 8 8]\n",
            " [7 8 8]]\n",
            "(array([1, 2, 3, 4, 5]), array([14,  0,  1,  4,  5]))\n",
            "(array([1, 2, 3, 4, 5]), array([1, 2, 1, 2, 3, 4, 2, 3, 4, 3, 4, 3, 4, 4, 0]))\n"
          ]
        }
      ],
      "source": [
        "n = np.array([1,2,2,2,3,3,3,3,4,4,4,5])\n",
        "l = np.array([2,3,2,3,4,5,3,4,5,4,5,4,5,5,1])\n",
        "print(np.unique(n))\n",
        "print(np.unique(n,return_index = True))\n",
        "print(np.unique(n,return_counts = True))\n",
        "print(np.unique(n,return_inverse = True))\n",
        "m = np.array([[1,2,3],\n",
        "             [4,5,6],\n",
        "             [3,2,1],\n",
        "             [7,8,8],\n",
        "             [7,8,8]])\n",
        "print(np.unique(m))\n",
        "print(np.unique(m,axis = 0))\n",
        "print(np.unique(m,axis = 1))\n",
        "print(np.unique(l,return_index = True))\n",
        "print(np.unique(l,return_inverse = True))"
      ]
    },
    {
      "cell_type": "markdown",
      "id": "8b2d921c",
      "metadata": {
        "id": "8b2d921c"
      },
      "source": [
        "### numpy.diag\n",
        "\n",
        "*`numpy.diag(v,k=0)`*\n",
        "\n",
        "_Extract a diagonal or constructs a diagonal array_\n",
        "\n",
        "*k: diagonal number*"
      ]
    },
    {
      "cell_type": "code",
      "execution_count": null,
      "id": "c93cb813",
      "metadata": {
        "colab": {
          "base_uri": "https://localhost:8080/"
        },
        "id": "c93cb813",
        "outputId": "2fc1ebeb-c38a-4f0f-aec9-84b5191fd65d"
      },
      "outputs": [
        {
          "output_type": "stream",
          "name": "stdout",
          "text": [
            "[[ 1  2  3  4]\n",
            " [ 5  6  7  8]\n",
            " [ 9 10 11 12]]\n",
            "[ 1  6 11]\n",
            "[[1 0 0 0]\n",
            " [0 1 0 0]\n",
            " [0 0 1 0]\n",
            " [0 0 0 1]]\n"
          ]
        }
      ],
      "source": [
        "a = np.arange(1,13).reshape(3,4)\n",
        "print(a)\n",
        "print(np.diag(a)) #Extracting a diagonal array\n",
        "print(np.diag([1,1,1,1])) #Constructing a diagonal array"
      ]
    },
    {
      "cell_type": "markdown",
      "id": "b7239002",
      "metadata": {
        "id": "b7239002"
      },
      "source": [
        "### diagflat\n",
        "\n",
        "*`numpy.diagflat(v,k=0)`*\n",
        "\n",
        "*Create a two-dimensional array with the flattened input as a diagonal.*\n",
        "\n",
        "*k: diagonal number*"
      ]
    },
    {
      "cell_type": "code",
      "execution_count": null,
      "id": "d16adcd1",
      "metadata": {
        "colab": {
          "base_uri": "https://localhost:8080/"
        },
        "id": "d16adcd1",
        "outputId": "7d7af63c-466c-4360-ead4-e6be63969469"
      },
      "outputs": [
        {
          "output_type": "stream",
          "name": "stdout",
          "text": [
            "[[9 0 0]\n",
            " [0 9 0]\n",
            " [0 0 9]]\n",
            "[[0 9 0 0]\n",
            " [0 0 9 0]\n",
            " [0 0 0 9]\n",
            " [0 0 0 0]]\n",
            "[[0 0 0 0 0]\n",
            " [0 0 0 0 0]\n",
            " [9 0 0 0 0]\n",
            " [0 9 0 0 0]\n",
            " [0 0 9 0 0]]\n"
          ]
        }
      ],
      "source": [
        "print(np.diagflat([9,9,9]))\n",
        "print(np.diagflat([9,9,9],k=1))\n",
        "print(np.diagflat([9,9,9],k=-2))"
      ]
    },
    {
      "cell_type": "markdown",
      "id": "f244bc2c",
      "metadata": {
        "id": "f244bc2c"
      },
      "source": [
        "### numpy.flatten\n",
        "\n",
        "*`ndarray.flatten(order='C')`*\n",
        "\n",
        "*Return a copy of the array collapsed into one dimension.*"
      ]
    },
    {
      "cell_type": "code",
      "execution_count": null,
      "id": "2782ad19",
      "metadata": {
        "colab": {
          "base_uri": "https://localhost:8080/"
        },
        "id": "2782ad19",
        "outputId": "cfe28fb0-68c4-46d6-b698-8b4251c01a33"
      },
      "outputs": [
        {
          "output_type": "stream",
          "name": "stdout",
          "text": [
            "[ 1  2  3  4  5  6  7  8  9 10 11 12 13 14 15 16]\n",
            "[ 1  5  9 13  2  6 10 14  3  7 11 15  4  8 12 16]\n"
          ]
        }
      ],
      "source": [
        "b = np.arange(1,17).reshape(4,4)\n",
        "print(b.flatten(order = 'C')) #row major\n",
        "print(b.flatten(order = 'F')) #column major"
      ]
    },
    {
      "cell_type": "markdown",
      "id": "a972f9ce",
      "metadata": {
        "id": "a972f9ce"
      },
      "source": [
        "### Random sampling (numpy.random)\n",
        "*Numpy’s random number routines produce pseudo random numbers using combinations of a BitGenerator to create sequences and a Generator to use those sequences to sample from different statistical distributions.*"
      ]
    },
    {
      "cell_type": "markdown",
      "id": "fe670fe9",
      "metadata": {
        "id": "fe670fe9"
      },
      "source": [
        "##### Generate a random integer from 0 to 100:\n",
        "NumPy offers the `random` module to work with random numbers."
      ]
    },
    {
      "cell_type": "code",
      "execution_count": null,
      "id": "98c47e9a",
      "metadata": {
        "colab": {
          "base_uri": "https://localhost:8080/"
        },
        "id": "98c47e9a",
        "outputId": "3f61b23a-7be2-482d-90c4-57496a6b5109"
      },
      "outputs": [
        {
          "output_type": "stream",
          "name": "stdout",
          "text": [
            "86\n"
          ]
        }
      ],
      "source": [
        "from numpy import random\n",
        "x = random.randint(100)\n",
        "print(x)"
      ]
    },
    {
      "cell_type": "markdown",
      "id": "29c51b25",
      "metadata": {
        "id": "29c51b25"
      },
      "source": [
        "##### Generate a random float from 0 to 1:\n",
        "The random module's `rand()` method returns a random float between 0 and 1:"
      ]
    },
    {
      "cell_type": "code",
      "execution_count": null,
      "id": "9ca7985d",
      "metadata": {
        "colab": {
          "base_uri": "https://localhost:8080/"
        },
        "id": "9ca7985d",
        "outputId": "119d8390-8088-4bd9-82b9-f1b202da113e"
      },
      "outputs": [
        {
          "output_type": "stream",
          "name": "stdout",
          "text": [
            "0.7115907336146622\n"
          ]
        }
      ],
      "source": [
        "from numpy import random\n",
        "x = random.rand()\n",
        "print(x)"
      ]
    },
    {
      "cell_type": "markdown",
      "id": "787542c9",
      "metadata": {
        "id": "787542c9"
      },
      "source": [
        "##### Generate a 1-D array containing 5 random integers from 0 to 100:\n",
        "The `randint()` method takes a `size` parameter where you can specify the shape of an array.\n"
      ]
    },
    {
      "cell_type": "code",
      "execution_count": null,
      "id": "5ac36aba",
      "metadata": {
        "colab": {
          "base_uri": "https://localhost:8080/"
        },
        "id": "5ac36aba",
        "outputId": "1b870664-608f-474d-8bcd-455006144b6f"
      },
      "outputs": [
        {
          "output_type": "stream",
          "name": "stdout",
          "text": [
            "[15  8 25 45 40]\n"
          ]
        }
      ],
      "source": [
        "from numpy import random\n",
        "x=random.randint(100, size=(5))\n",
        "print(x)"
      ]
    },
    {
      "cell_type": "markdown",
      "id": "73666179",
      "metadata": {
        "id": "73666179"
      },
      "source": [
        "##### Generate a 1-D array containing 5 random floats:\n",
        "The `rand()` method also allows you to specify the shape of the array."
      ]
    },
    {
      "cell_type": "code",
      "execution_count": null,
      "id": "8b241678",
      "metadata": {
        "colab": {
          "base_uri": "https://localhost:8080/"
        },
        "id": "8b241678",
        "outputId": "cf5b4bd5-e5f2-4336-e351-fe7fab886e54"
      },
      "outputs": [
        {
          "output_type": "stream",
          "name": "stdout",
          "text": [
            "[0.323236   0.71564954 0.36918711 0.04485567 0.66041004]\n"
          ]
        }
      ],
      "source": [
        "from numpy import random\n",
        "x = random.rand(5)\n",
        "print(x)"
      ]
    },
    {
      "cell_type": "markdown",
      "id": "1cf9a5f3",
      "metadata": {
        "id": "1cf9a5f3"
      },
      "source": [
        "##### Generate Random Number From Array\n",
        "The `choice()` method allows you to generate a random value based on an array of values.\n",
        "The `choice()` method takes an array as a parameter and randomly returns one of the values."
      ]
    },
    {
      "cell_type": "code",
      "execution_count": null,
      "id": "22a2752e",
      "metadata": {
        "colab": {
          "base_uri": "https://localhost:8080/"
        },
        "id": "22a2752e",
        "outputId": "da18a170-3b66-47a6-bb0b-631a8c0ee30e"
      },
      "outputs": [
        {
          "output_type": "stream",
          "name": "stdout",
          "text": [
            "9\n"
          ]
        }
      ],
      "source": [
        "# Return one of the values in an array:\n",
        "from numpy import random\n",
        "x = random.choice([3, 5, 7, 9])\n",
        "print(x)"
      ]
    },
    {
      "cell_type": "markdown",
      "id": "5baca5a3",
      "metadata": {
        "id": "5baca5a3"
      },
      "source": [
        "##### Generate a 2-D array that consists of the values in the array parameter (3, 5, 7, and 9):\n",
        "The `choice()` method also allows you to return an array of values.\n",
        "Add a `size` parameter to specify the shape of the array.\n"
      ]
    },
    {
      "cell_type": "code",
      "execution_count": null,
      "id": "318eb420",
      "metadata": {
        "colab": {
          "base_uri": "https://localhost:8080/"
        },
        "id": "318eb420",
        "outputId": "a8654115-112f-420f-daac-b40edd9a0200"
      },
      "outputs": [
        {
          "output_type": "stream",
          "name": "stdout",
          "text": [
            "[[9 7 5 5 7]\n",
            " [5 9 5 7 9]\n",
            " [9 9 3 3 7]]\n"
          ]
        }
      ],
      "source": [
        "from numpy import random\n",
        "x = random.choice([3, 5, 7, 9], size=(3, 5))\n",
        "print(x)"
      ]
    },
    {
      "cell_type": "markdown",
      "id": "10d5bf37",
      "metadata": {
        "id": "10d5bf37"
      },
      "source": [
        "## Numpy Arange"
      ]
    },
    {
      "cell_type": "markdown",
      "id": "7963c98d",
      "metadata": {
        "id": "7963c98d"
      },
      "source": [
        "### numpy.arange"
      ]
    },
    {
      "cell_type": "markdown",
      "id": "1aba87d0",
      "metadata": {
        "id": "1aba87d0"
      },
      "source": [
        "*This function returns an ndarray object containing evenly spaced values within a given range. The format of the function is as follows −*\n",
        "\n",
        "*`numpy.arange(start, stop, step, dtype)`*"
      ]
    },
    {
      "cell_type": "markdown",
      "id": "80bcc7d3",
      "metadata": {
        "id": "80bcc7d3"
      },
      "source": [
        "##### The Constructor takes the following parameters:\n",
        "|S.No.|Parameter|Description|\n",
        "|-----|---------|-----------|\n",
        "|1|start|The start of an interval.If omitted,defaults to 0|\n",
        "|2|stop|The end of an interval (not including this number)|\n",
        "|3|step|Spacing between values,default is 1|\n",
        "|4|dtype|Data type of resulting ndarray.If not given,data type of input is used\n",
        "\n",
        "\n",
        "<div class = \"alert alert-block alert-info\">\n",
        "            <I>The basic difference between numpy arange and python range is python range returns the range instance whereas the numpy arange returns the numpy array.</I>\n",
        "        </div>"
      ]
    },
    {
      "cell_type": "code",
      "execution_count": null,
      "id": "16357f5d",
      "metadata": {
        "colab": {
          "base_uri": "https://localhost:8080/"
        },
        "id": "16357f5d",
        "outputId": "1a34b46c-9932-41ee-afc6-10d56cb8dac9"
      },
      "outputs": [
        {
          "output_type": "stream",
          "name": "stdout",
          "text": [
            "[0 1 2 3 4]\n"
          ]
        }
      ],
      "source": [
        "x = np.arange(5)\n",
        "print (x)"
      ]
    },
    {
      "cell_type": "code",
      "execution_count": null,
      "id": "a6152adb",
      "metadata": {
        "colab": {
          "base_uri": "https://localhost:8080/"
        },
        "id": "a6152adb",
        "outputId": "3ad2d065-7f14-49cc-a005-7e25cf1c294b"
      },
      "outputs": [
        {
          "output_type": "stream",
          "name": "stdout",
          "text": [
            "[0. 1. 2. 3. 4.]\n"
          ]
        }
      ],
      "source": [
        "x = np.arange(5, dtype = float)\n",
        "print (x)"
      ]
    },
    {
      "cell_type": "code",
      "execution_count": null,
      "id": "7e950445",
      "metadata": {
        "colab": {
          "base_uri": "https://localhost:8080/"
        },
        "id": "7e950445",
        "outputId": "69600b29-5469-4212-e64d-9177af70feb5"
      },
      "outputs": [
        {
          "output_type": "stream",
          "name": "stdout",
          "text": [
            "[10 12 14 16 18]\n"
          ]
        }
      ],
      "source": [
        "x = np.arange(10,20,2)\n",
        "print (x)"
      ]
    },
    {
      "cell_type": "code",
      "execution_count": null,
      "id": "f7132760",
      "metadata": {
        "colab": {
          "base_uri": "https://localhost:8080/"
        },
        "id": "f7132760",
        "outputId": "d9e77c34-93b5-43b8-a9be-e1dcbc13ce82"
      },
      "outputs": [
        {
          "output_type": "stream",
          "name": "stdout",
          "text": [
            "[ 0.   2.3  4.6  6.9  9.2 11.5 13.8 16.1 18.4]\n"
          ]
        }
      ],
      "source": [
        "x = np.arange(0,20.6,2.3)\n",
        "print (x)"
      ]
    },
    {
      "cell_type": "markdown",
      "id": "738ddabe",
      "metadata": {
        "id": "738ddabe"
      },
      "source": [
        "# NumPy - Indexing & Slicing"
      ]
    },
    {
      "cell_type": "markdown",
      "id": "74055eb6",
      "metadata": {
        "id": "74055eb6"
      },
      "source": [
        "## Indexing"
      ]
    },
    {
      "cell_type": "markdown",
      "id": "392ed44b",
      "metadata": {
        "id": "392ed44b"
      },
      "source": [
        "*This mechanism helps in selecting any arbitrary item in an array based on its Ndimensional index. Each integer array represents the number of indexes into that dimension. When the index consists of as many integer arrays as the dimensions of the target ndarray, it becomes straightforward.*"
      ]
    },
    {
      "cell_type": "code",
      "execution_count": null,
      "id": "ed227037",
      "metadata": {
        "colab": {
          "base_uri": "https://localhost:8080/"
        },
        "id": "ed227037",
        "outputId": "50efc2c4-af0a-4ad0-bba4-87023340a8c3"
      },
      "outputs": [
        {
          "output_type": "stream",
          "name": "stdout",
          "text": [
            "4\n"
          ]
        }
      ],
      "source": [
        "x = np.array([[1, 2], [3, 4], [5, 6]])\n",
        "print(x[1,1])"
      ]
    },
    {
      "cell_type": "code",
      "execution_count": null,
      "id": "ea209e74",
      "metadata": {
        "colab": {
          "base_uri": "https://localhost:8080/"
        },
        "id": "ea209e74",
        "outputId": "bdda8617-107a-43d1-b7b4-0f8a52762185"
      },
      "outputs": [
        {
          "output_type": "stream",
          "name": "stdout",
          "text": [
            "[1 4 5]\n"
          ]
        }
      ],
      "source": [
        "x = np.array([[1, 2], [3, 4], [5, 6]])\n",
        "y = x[[0,1,2], [0,1,0]]\n",
        "print (y)"
      ]
    },
    {
      "cell_type": "markdown",
      "id": "db17ca3b",
      "metadata": {
        "id": "db17ca3b"
      },
      "source": [
        "*The selection includes elements at (0,0), (1,1) and (2,0) from the first array.*"
      ]
    },
    {
      "cell_type": "markdown",
      "id": "45572d31",
      "metadata": {
        "id": "45572d31"
      },
      "source": [
        "## Slicing"
      ]
    },
    {
      "cell_type": "markdown",
      "id": "8145e702",
      "metadata": {
        "id": "8145e702"
      },
      "source": [
        "*A Python slice object is constructed by giving _start_, _stop_, and _step_ parameters to the built-in slice function. This slice object is passed to the array to extract a part of array.*"
      ]
    },
    {
      "cell_type": "code",
      "execution_count": null,
      "id": "29b97bcc",
      "metadata": {
        "colab": {
          "base_uri": "https://localhost:8080/"
        },
        "id": "29b97bcc",
        "outputId": "0646b051-f3ac-4bba-99ca-34b932e2c24e"
      },
      "outputs": [
        {
          "output_type": "stream",
          "name": "stdout",
          "text": [
            "[2 4 6]\n"
          ]
        }
      ],
      "source": [
        "a = np.arange(10)\n",
        "s = slice(2,7,2)\n",
        "print (a[s])"
      ]
    },
    {
      "cell_type": "markdown",
      "id": "c6971aae",
      "metadata": {
        "id": "c6971aae"
      },
      "source": [
        "*The same result can also be obtained by giving the slicing parameters\n",
        "separated by a colon : (start:stop:step) directly to the ndarray object.*"
      ]
    },
    {
      "cell_type": "code",
      "execution_count": null,
      "id": "e9e57b4d",
      "metadata": {
        "colab": {
          "base_uri": "https://localhost:8080/"
        },
        "id": "e9e57b4d",
        "outputId": "46c8a5a9-ab04-4c3c-d3ca-519fcdb8bdce"
      },
      "outputs": [
        {
          "output_type": "stream",
          "name": "stdout",
          "text": [
            "[2 4 6]\n",
            "[2 3 4 5 6 7 8 9]\n",
            "[2 3 4]\n"
          ]
        }
      ],
      "source": [
        "# 1-D array\n",
        "a = np.arange(10)\n",
        "print(a[2:7:2])\n",
        "print(a[2:])\n",
        "print(a[2:5])"
      ]
    },
    {
      "cell_type": "code",
      "execution_count": null,
      "id": "aa7af7f7",
      "metadata": {
        "colab": {
          "base_uri": "https://localhost:8080/"
        },
        "id": "aa7af7f7",
        "outputId": "0f59904d-e269-41f2-a37f-37bf0a4b18eb"
      },
      "outputs": [
        {
          "output_type": "stream",
          "name": "stdout",
          "text": [
            "[[1 2 3]\n",
            " [3 4 5]\n",
            " [4 5 6]]\n",
            "[[3 4 5]\n",
            " [4 5 6]]\n",
            "[5 6]\n"
          ]
        }
      ],
      "source": [
        "#2-D array\n",
        "a = np.array([[1,2,3],[3,4,5],[4,5,6]])\n",
        "print(a)\n",
        "print(a[1:])\n",
        "print(a[1:,2])"
      ]
    },
    {
      "cell_type": "code",
      "execution_count": null,
      "id": "969824cd",
      "metadata": {
        "colab": {
          "base_uri": "https://localhost:8080/"
        },
        "id": "969824cd",
        "outputId": "76f91275-99be-4385-8eb3-641ac92a71c7"
      },
      "outputs": [
        {
          "output_type": "stream",
          "name": "stdout",
          "text": [
            "[[[ 0  1  2  3  4]\n",
            "  [ 5  6  7  8  9]\n",
            "  [10 11 12 13 14]]\n",
            "\n",
            " [[15 16 17 18 19]\n",
            "  [20 21 22 23 24]\n",
            "  [25 26 27 28 29]]\n",
            "\n",
            " [[30 31 32 33 34]\n",
            "  [35 36 37 38 39]\n",
            "  [40 41 42 43 44]]]\n",
            "[[15 16 17 18 19]\n",
            " [30 31 32 33 34]]\n",
            "[[[16 17 18]\n",
            "  [21 22 23]]\n",
            "\n",
            " [[31 32 33]\n",
            "  [36 37 38]]]\n"
          ]
        }
      ],
      "source": [
        "#3-D array\n",
        "x = np.arange(45).reshape(3,3,5)\n",
        "print(x)\n",
        "print(x[1:, 0])\n",
        "print(x[1:, 0:2, 1:4])"
      ]
    },
    {
      "cell_type": "markdown",
      "id": "7ff67097",
      "metadata": {
        "id": "7ff67097"
      },
      "source": [
        "The notation and its results can seem confusing at first, so take your time to experiment and become comfortable with it. Use the cells below to try out some examples of array indexing and slicing, with different combinations of indices and ranges. Here are some more examples demonstrated visually:\n",
        "\n",
        "<img src=\"https://scipy-lectures.org/_images/numpy_indexing.png\" width=\"360\">"
      ]
    },
    {
      "cell_type": "markdown",
      "id": "442db4e5",
      "metadata": {
        "id": "442db4e5"
      },
      "source": [
        "##  NumPy - Arithmetic Operations"
      ]
    },
    {
      "cell_type": "markdown",
      "id": "7744370e",
      "metadata": {
        "id": "7744370e"
      },
      "source": [
        "*Input arrays for performing arithmetic operations such as `add()`, `subtract()`, `multiply()`, and `divide()` must be either of the same shape or should conform to array broadcasting rules.*"
      ]
    },
    {
      "cell_type": "code",
      "execution_count": null,
      "id": "3062fe2c",
      "metadata": {
        "colab": {
          "base_uri": "https://localhost:8080/"
        },
        "id": "3062fe2c",
        "outputId": "248c5322-6096-4c9a-85ab-cbd97886abfc"
      },
      "outputs": [
        {
          "output_type": "stream",
          "name": "stdout",
          "text": [
            "First array:\n",
            "[1 2 3]\n",
            "Second array:\n",
            "[4 5 6]\n",
            "Add the two arrays:\n",
            "[5 7 9]\n",
            "Subtract the two arrays:\n",
            "[-3 -3 -3]\n",
            "Multiply the two arrays:\n",
            "[ 4 10 18]\n",
            "Divide the two arrays:\n",
            "[0.25 0.4  0.5 ]\n",
            "Power function:\n",
            "[  1  32 729]\n"
          ]
        }
      ],
      "source": [
        "a = np.array([1,2,3])\n",
        "\n",
        "print('First array:')\n",
        "print(a)\n",
        "print('Second array:')\n",
        "b = np.array([4,5,6])\n",
        "print(b)\n",
        "print('Add the two arrays:')\n",
        "print (np.add(a,b))\n",
        "print('Subtract the two arrays:')\n",
        "print(np.subtract(a,b))\n",
        "print('Multiply the two arrays:')\n",
        "print(np.multiply(a,b))\n",
        "print('Divide the two arrays:')\n",
        "print (np.divide(a,b))\n",
        "print('Power function:')\n",
        "print(np.power(a,b))"
      ]
    },
    {
      "cell_type": "code",
      "execution_count": null,
      "id": "622ee43d",
      "metadata": {
        "scrolled": true,
        "colab": {
          "base_uri": "https://localhost:8080/"
        },
        "id": "622ee43d",
        "outputId": "445821c9-33a0-4175-c043-c93880392281"
      },
      "outputs": [
        {
          "output_type": "stream",
          "name": "stdout",
          "text": [
            "First array:\n",
            "[[0 1 2]\n",
            " [3 4 5]\n",
            " [6 7 8]]\n",
            "Second array:\n",
            "[10 10 10]\n",
            "Add the two arrays:\n",
            "[[10 11 12]\n",
            " [13 14 15]\n",
            " [16 17 18]]\n",
            "Subtract the two arrays:\n",
            "[[-10  -9  -8]\n",
            " [ -7  -6  -5]\n",
            " [ -4  -3  -2]]\n",
            "Multiply the two arrays:\n",
            "[[ 0 10 20]\n",
            " [30 40 50]\n",
            " [60 70 80]]\n",
            "Divide the two arrays:\n",
            "[[0.  0.1 0.2]\n",
            " [0.3 0.4 0.5]\n",
            " [0.6 0.7 0.8]]\n",
            "Power function:\n",
            "[[         0          1       1024]\n",
            " [     59049    1048576    9765625]\n",
            " [  60466176  282475249 1073741824]]\n"
          ]
        }
      ],
      "source": [
        "a = np.arange(9).reshape(3,3)\n",
        "\n",
        "print('First array:')\n",
        "print(a)\n",
        "print('Second array:')\n",
        "b = np.array([10,10,10])\n",
        "print(b)\n",
        "print('Add the two arrays:')\n",
        "print (np.add(a,b))\n",
        "print('Subtract the two arrays:')\n",
        "print(np.subtract(a,b))\n",
        "print('Multiply the two arrays:')\n",
        "print(np.multiply(a,b))\n",
        "print('Divide the two arrays:')\n",
        "print (np.divide(a,b))\n",
        "print('Power function:')\n",
        "print(np.power(a,b))"
      ]
    },
    {
      "cell_type": "markdown",
      "id": "7d2e7d8f",
      "metadata": {
        "id": "7d2e7d8f"
      },
      "source": [
        "### Cumulative Sum\n",
        "\n",
        "*`numpy.cumsum(a, axis=None, dtype=None, out=None)`*\n",
        "\n",
        "_Returns cumulative sum along a given axis(successive additions)_"
      ]
    },
    {
      "cell_type": "code",
      "execution_count": null,
      "id": "65400335",
      "metadata": {
        "colab": {
          "base_uri": "https://localhost:8080/"
        },
        "id": "65400335",
        "outputId": "81231201-9a3a-466f-d9d0-73a5f8684847"
      },
      "outputs": [
        {
          "output_type": "stream",
          "name": "stdout",
          "text": [
            "Numpy array: \n",
            "[[1 2 3]\n",
            " [4 5 6]\n",
            " [7 8 9]]\n",
            "Cumulative sum of flattened numpy array\n",
            "[ 1  3  6 10 15 21 28 36 45]\n",
            "Cumulative sum along zeroth axis\n",
            "[[ 1  2  3]\n",
            " [ 5  7  9]\n",
            " [12 15 18]]\n",
            "Cumulative sum along axis 1\n",
            "[[ 1  3  6]\n",
            " [ 4  9 15]\n",
            " [ 7 15 24]]\n",
            "Cumulative sum along axis -2 which is same as the result of zeroth axis\n",
            "[[ 1  2  3]\n",
            " [ 5  7  9]\n",
            " [12 15 18]]\n"
          ]
        }
      ],
      "source": [
        "e = np.arange(1,10).reshape(3,3)\n",
        "print(\"Numpy array: \")\n",
        "print(e)\n",
        "print(\"Cumulative sum of flattened numpy array\")\n",
        "print(np.cumsum(e))\n",
        "print(\"Cumulative sum along zeroth axis\")\n",
        "print(np.cumsum(e,axis = 0))\n",
        "print(\"Cumulative sum along axis 1\")\n",
        "print(np.cumsum(e,axis = 1))\n",
        "print(\"Cumulative sum along axis -2 which is same as the result of zeroth axis\")\n",
        "print(np.cumsum(e,axis = -2))"
      ]
    },
    {
      "cell_type": "markdown",
      "id": "d2620c40",
      "metadata": {
        "id": "d2620c40"
      },
      "source": [
        "### Difference\n",
        "\n",
        "*`numpy.diff(a, n=1, axis=-1, prepend=<no value>, append=<no value>)`*\n",
        "    \n",
        "**Parameters**\n",
        "\n",
        "|S.No|Parameter|Description|\n",
        "|----|---------|-----------|\n",
        "|1.|a|Input array|\n",
        "|2.|n|Number of times values to be differenced||\n",
        "|3.|axis|axis along which difference is taken|\n",
        "|4.|prepend,append||"
      ]
    },
    {
      "cell_type": "code",
      "execution_count": null,
      "id": "11ce44c3",
      "metadata": {
        "colab": {
          "base_uri": "https://localhost:8080/"
        },
        "id": "11ce44c3",
        "outputId": "92c2b0a7-94f0-4493-b777-6e25e22a79b8"
      },
      "outputs": [
        {
          "output_type": "stream",
          "name": "stdout",
          "text": [
            "Numpy array\n",
            "[1 4 5 3 6 7]\n",
            "Differene after one time\n",
            "[ 3  1 -2  3  1]\n",
            "Difference after two times\n",
            "[-2 -3  5 -2]\n",
            "Difference after three times\n",
            "[-1  8 -7]\n",
            "Numpy array\n",
            "[[ 1  4  2]\n",
            " [ 3  8  2]\n",
            " [ 5  9 10]]\n",
            "One time difference between columns\n",
            "[[ 3 -2]\n",
            " [ 5 -6]\n",
            " [ 4  1]]\n",
            "One time difference between rows\n",
            "[[2 4 0]\n",
            " [2 1 8]]\n",
            "Two time difference between rows\n",
            "[[ 0 -3  8]]\n",
            "One time difference between columns\n",
            "[[ 3 -2]\n",
            " [ 5 -6]\n",
            " [ 4  1]]\n"
          ]
        }
      ],
      "source": [
        "a = np.array([1,4,5,3,6,7])\n",
        "print(\"Numpy array\")\n",
        "print(a)\n",
        "print(\"Differene after one time\")\n",
        "print(np.diff(a))\n",
        "print(\"Difference after two times\")\n",
        "print(np.diff(a,n = 2))\n",
        "print(\"Difference after three times\")\n",
        "print(np.diff(a,n = 3))\n",
        "b = np.array([[1,4,2],\n",
        "             [3,8,2],\n",
        "             [5,9,10]])\n",
        "print(\"Numpy array\")\n",
        "print(b)\n",
        "print(\"One time difference between columns\")\n",
        "print(np.diff(b))\n",
        "print(\"One time difference between rows\")\n",
        "print(np.diff(b,axis = 0))\n",
        "print(\"Two time difference between rows\")\n",
        "print(np.diff(b,axis = 0,n = 2))\n",
        "print(\"One time difference between columns\")\n",
        "print(np.diff(b,axis = 1))"
      ]
    },
    {
      "cell_type": "markdown",
      "id": "641fa0ae",
      "metadata": {
        "id": "641fa0ae"
      },
      "source": [
        "## NumPy - Statistical Functions\n",
        "NumPy has quite a few useful statistical functions for finding minimum, maximum, percentile standard deviation and variance, etc. from the given elements in the array."
      ]
    },
    {
      "cell_type": "markdown",
      "id": "8e576038",
      "metadata": {
        "id": "8e576038"
      },
      "source": [
        "### Order Statistics:\n",
        "|Function|Description|\n",
        "|--------|-----------|\n",
        "|ptp(a[, axis, out,keepdims])|Range of values (maximum - minimum) along an axis|\n",
        "|percentile(a, q[, axis, out, ...])|Compute the q-th percentile of the data along the specified axis|\n",
        "|nanpercentile(a, q[, axis, out, ...])|Compute the qth percentile of the data along the specified axis, while ignoring nan values|\n",
        "|quantile(a, q[, axis, out, overwrite_input, ...])|Compute the q-th quantile of the data along the specified axis|\n",
        "|nanquantile(a, q[, axis, out, ...])|Compute the qth quantile of the data along the specified axis, while ignoring nan values|\n",
        "\n",
        "###  Averages and variances:\n",
        "|Function|Description|\n",
        "|--------|-----------|\n",
        "|median(a[, axis, out, overwrite_input, keepdims])|Compute the median along the specified axis|\n",
        "|average(a[, axis, weights, returned, keepdims])|Compute the weighted average along the specified axis|\n",
        "|mean(a[, axis, dtype, out, keepdims, where])|Compute the arithmetic mean along the specified axis|\n",
        "|std(a[, axis, dtype, out, ddof, keepdims, where])|Compute the standard deviation along the specified axis|\n",
        "|var(a[, axis, dtype, out, ddof, keepdims, where])|Compute the variance along the specified axis|\n",
        "|nanmedian(a[, axis, out, overwrite_input, ...])|Compute the median along the specified axis, while ignoring NaNs|\n",
        "|nanmean(a[, axis, dtype, out, keepdims, where])|Compute the arithmetic mean along the specified axis, ignoring NaNs|\n",
        "|nanstd(a[, axis, dtype, out, ddof, ...])|Compute the standard deviation along the specified axis, while ignoring NaNs|\n",
        "|nanvar(a[, axis, dtype, out, ddof, ...])|Compute the variance along the specified axis, while ignoring NaNs|\n",
        "\n",
        "###  Correlating:\n",
        "|Function|Description|\n",
        "|--------|-----------|\n",
        "|corrcoef(x[, y, rowvar, bias, ddof, dtype])|Return Pearson product-moment correlation coefficients|\n",
        "|correlate(a, v[, mode])|Cross-correlation of two 1-dimensional sequences|\n",
        "|cov(m[, y,rowvar,bias,ddof,fweights,...])|Estimate a covariance matrix, given data and weights|"
      ]
    },
    {
      "cell_type": "markdown",
      "id": "55c41e83",
      "metadata": {
        "id": "55c41e83"
      },
      "source": [
        "## Matrix Transpose"
      ]
    },
    {
      "cell_type": "markdown",
      "id": "186d4111",
      "metadata": {
        "id": "186d4111"
      },
      "source": [
        "*With the help of Numpy `matrix.transpose()` method, we can find the transpose of the matrix by using the `matrix.transpose()` method.*"
      ]
    },
    {
      "cell_type": "code",
      "execution_count": null,
      "id": "ad44fd52",
      "metadata": {
        "colab": {
          "base_uri": "https://localhost:8080/"
        },
        "id": "ad44fd52",
        "outputId": "1b234a40-401e-4f59-8065-a6204834dc23"
      },
      "outputs": [
        {
          "output_type": "stream",
          "name": "stdout",
          "text": [
            "[[1 2 3]\n",
            " [4 5 6]\n",
            " [7 8 9]]\n",
            "Transpose matrix is:\n",
            "[[1 4 7]\n",
            " [2 5 8]\n",
            " [3 6 9]]\n"
          ]
        }
      ],
      "source": [
        "c = np.array([[1, 2, 3],\n",
        "              [4, 5, 6],\n",
        "              [7,8,9]])\n",
        "print(c)\n",
        "print(\"Transpose matrix is:\")\n",
        "print(c.transpose())"
      ]
    },
    {
      "cell_type": "markdown",
      "id": "ecd69251",
      "metadata": {
        "id": "ecd69251"
      },
      "source": [
        "*We can also find the transpose of the matrix by using the `matrix.T` method.*"
      ]
    },
    {
      "cell_type": "code",
      "execution_count": null,
      "id": "5d1ffa66",
      "metadata": {
        "colab": {
          "base_uri": "https://localhost:8080/"
        },
        "id": "5d1ffa66",
        "outputId": "385bd3a6-a51b-477c-d8ce-deec086186a1"
      },
      "outputs": [
        {
          "output_type": "stream",
          "name": "stdout",
          "text": [
            "[[1 2 3]\n",
            " [4 5 6]\n",
            " [7 8 9]]\n",
            "Transpose matrix is:\n",
            "[[1 4 7]\n",
            " [2 5 8]\n",
            " [3 6 9]]\n"
          ]
        }
      ],
      "source": [
        "c = np.array([[1, 2, 3],\n",
        "              [4, 5, 6],\n",
        "              [7,8,9]])\n",
        "print(c)\n",
        "print(\"Transpose matrix is:\")\n",
        "print(c.T)"
      ]
    },
    {
      "cell_type": "markdown",
      "id": "74a22856",
      "metadata": {
        "id": "74a22856"
      },
      "source": [
        "## Matrix Inverse"
      ]
    },
    {
      "cell_type": "markdown",
      "id": "07a74839",
      "metadata": {
        "id": "07a74839"
      },
      "source": [
        "`numpy.matrix.I` returns the (multiplicative) inverse of invertible self.\n",
        "\n",
        "__NOTE:__ First we have to convert the ndarray into matrix using `np.matrix(ndarray)`.\n",
        "`matrix.getI()` returns the inverse of the given matrix."
      ]
    },
    {
      "cell_type": "code",
      "execution_count": null,
      "id": "77fcea1a",
      "metadata": {
        "colab": {
          "base_uri": "https://localhost:8080/"
        },
        "id": "77fcea1a",
        "outputId": "61c0be3f-bbf2-437e-d6b8-38c0a2dee658"
      },
      "outputs": [
        {
          "output_type": "stream",
          "name": "stdout",
          "text": [
            "[[1 2]\n",
            " [3 4]]\n",
            "Inverse matrix is:\n",
            "[[-2.   1. ]\n",
            " [ 1.5 -0.5]]\n"
          ]
        }
      ],
      "source": [
        "c = np.array([[1, 2],\n",
        "              [3,4]])\n",
        "print(c)\n",
        "print(\"Inverse matrix is:\")\n",
        "m=np.matrix(c)\n",
        "print(m.getI())"
      ]
    },
    {
      "cell_type": "markdown",
      "id": "cc22de20",
      "metadata": {
        "id": "cc22de20"
      },
      "source": [
        "## Matrix Multiplication"
      ]
    },
    {
      "cell_type": "markdown",
      "id": "d63dafb6",
      "metadata": {
        "id": "d63dafb6"
      },
      "source": [
        "### numpy.matmul\n",
        "*`numpy.matmul(x1, x2, /, out=None, *, casting='same_kind', order='K', dtype=None, subok=True[, signature, extobj, axes, axis]) = <ufunc 'matmul'>`*\n",
        "\n",
        "_Matrix product of two arrays_\n",
        "\n",
        "_Raises **ValueError** if last dimension of matrix1 is not same as first dimension of matrix2 or a scalar is passed_"
      ]
    },
    {
      "cell_type": "code",
      "execution_count": null,
      "id": "5a87772c",
      "metadata": {
        "colab": {
          "base_uri": "https://localhost:8080/"
        },
        "id": "5a87772c",
        "outputId": "643f5f3d-25fb-4c2a-bf83-1e3844af4c02"
      },
      "outputs": [
        {
          "output_type": "stream",
          "name": "stdout",
          "text": [
            "[[14]\n",
            " [32]\n",
            " [50]]\n"
          ]
        }
      ],
      "source": [
        "a = np.array([[1,2,3],\n",
        "             [4,5,6],\n",
        "             [7,8,9]])\n",
        "\n",
        "b = np.array([[1],\n",
        "             [2],\n",
        "             [3]])\n",
        "\n",
        "print(np.matmul(a,b))"
      ]
    },
    {
      "cell_type": "markdown",
      "id": "d7cfaab0",
      "metadata": {
        "id": "d7cfaab0"
      },
      "source": [
        "<div class = \"alert alert-block alert-info\">\n",
        "    <b>NOTE:</b> @ can also be used for matrix multiplication"
      ]
    },
    {
      "cell_type": "code",
      "execution_count": null,
      "id": "c26984d0",
      "metadata": {
        "colab": {
          "base_uri": "https://localhost:8080/"
        },
        "id": "c26984d0",
        "outputId": "c73480fc-6364-4424-e6f3-39f9c21c9a8b"
      },
      "outputs": [
        {
          "output_type": "execute_result",
          "data": {
            "text/plain": [
              "array([[14],\n",
              "       [32],\n",
              "       [50]])"
            ]
          },
          "metadata": {},
          "execution_count": 94
        }
      ],
      "source": [
        "a @ b"
      ]
    },
    {
      "cell_type": "markdown",
      "id": "f3e639d5",
      "metadata": {
        "id": "f3e639d5"
      },
      "source": [
        "### numpy.dot\n",
        "\n",
        "_Dot product of two arrays_\n",
        "\n",
        "*`numpy.dot(a, b, out=None)`*\n",
        "\n",
        "* If both a and b are 1-D arrays, it is inner product of vectors (without complex conjugation).\n",
        "\n",
        "\n",
        "* If both a and b are 2-D arrays, it is matrix multiplication, but using matmul or a @ b is preferred.\n",
        "\n",
        "\n",
        "* If either a or b is 0-D (scalar), it is equivalent to multiply and using numpy.multiply(a, b) or a * b is preferred."
      ]
    },
    {
      "cell_type": "markdown",
      "id": "c2e947f7",
      "metadata": {
        "id": "c2e947f7"
      },
      "source": [
        "## Lab Programs:-"
      ]
    },
    {
      "cell_type": "markdown",
      "id": "46d8f0aa",
      "metadata": {
        "id": "46d8f0aa"
      },
      "source": [
        "#### 9. write a program to calculate the sum of every row in a numpy array."
      ]
    },
    {
      "cell_type": "code",
      "execution_count": null,
      "id": "df7bf64e",
      "metadata": {
        "colab": {
          "base_uri": "https://localhost:8080/"
        },
        "id": "df7bf64e",
        "outputId": "3bc57d75-e70f-4a7f-88df-67596319d44c"
      },
      "outputs": [
        {
          "output_type": "stream",
          "name": "stdout",
          "text": [
            "rows : 4\n",
            "columns : 6\n",
            "Enter array : 8\n",
            "array :  [[8 8 8 8 8 8]\n",
            " [8 8 8 8 8 8]\n",
            " [8 8 8 8 8 8]\n",
            " [8 8 8 8 8 8]]\n",
            "sum of rows :  [np.int64(48), np.int64(48), np.int64(48), np.int64(48)]\n"
          ]
        }
      ],
      "source": [
        "import numpy as np\n",
        "m = int(input('rows : '))\n",
        "n = int(input('columns : '))\n",
        "arr = list(map(int,input('Enter array : ').split()))\n",
        "arr = np.array(arr)\n",
        "arr = np.resize(arr,(m,n))\n",
        "print('array : ',arr)\n",
        "list1 = []\n",
        "for i in range(m):\n",
        "    sum = np.sum(arr[i,:])\n",
        "    list1.append(sum)\n",
        "print('sum of rows : ',list1)"
      ]
    },
    {
      "cell_type": "markdown",
      "id": "7f6ff7f1",
      "metadata": {
        "id": "7f6ff7f1"
      },
      "source": [
        "#### 10. write a python program to claculate the sum of every column in a numpy array."
      ]
    },
    {
      "cell_type": "code",
      "execution_count": null,
      "id": "54ead5a3",
      "metadata": {
        "colab": {
          "base_uri": "https://localhost:8080/"
        },
        "id": "54ead5a3",
        "outputId": "dd4bd295-1ea9-4348-b8dd-9fa54dd295bb"
      },
      "outputs": [
        {
          "output_type": "stream",
          "name": "stdout",
          "text": [
            "rows : 3\n",
            "columns : 4\n",
            "Enter array : 6\n",
            "array :  [[6 6 6 6]\n",
            " [6 6 6 6]\n",
            " [6 6 6 6]]\n",
            "sum of columns :  [np.int64(18), np.int64(18), np.int64(18)]\n"
          ]
        }
      ],
      "source": [
        "import numpy as np\n",
        "m = int(input('rows : '))\n",
        "n = int(input('columns : '))\n",
        "arr = list(map(int,input('Enter array : ').split()))\n",
        "arr = np.array(arr)\n",
        "arr = np.resize(arr,(m,n))\n",
        "print('array : ',arr)\n",
        "list1 = []\n",
        "for i in range(m):\n",
        "    sum = np.sum(arr[:,i])\n",
        "    list1.append(sum)\n",
        "print('sum of columns : ',list1)"
      ]
    },
    {
      "cell_type": "markdown",
      "id": "11add19d",
      "metadata": {
        "id": "11add19d"
      },
      "source": [
        "#### 11. write a numpy program to compute the 80 percentile for all elements in a given array along the second axis."
      ]
    },
    {
      "cell_type": "code",
      "execution_count": null,
      "id": "cf6cf798",
      "metadata": {
        "colab": {
          "base_uri": "https://localhost:8080/",
          "height": 269
        },
        "id": "cf6cf798",
        "outputId": "4b75046e-2aca-4b35-ef2c-7f6d0ed935c2"
      },
      "outputs": [
        {
          "name": "stdout",
          "output_type": "stream",
          "text": [
            "rows : 3\n",
            "columns : 3\n",
            "80% 70% 60% 50%\n"
          ]
        },
        {
          "output_type": "error",
          "ename": "ValueError",
          "evalue": "invalid literal for int() with base 10: '80%'",
          "traceback": [
            "\u001b[0;31m---------------------------------------------------------------------------\u001b[0m",
            "\u001b[0;31mValueError\u001b[0m                                Traceback (most recent call last)",
            "\u001b[0;32m/tmp/ipython-input-98-4152885850.py\u001b[0m in \u001b[0;36m<cell line: 0>\u001b[0;34m()\u001b[0m\n\u001b[1;32m      2\u001b[0m \u001b[0mm\u001b[0m \u001b[0;34m=\u001b[0m \u001b[0mint\u001b[0m\u001b[0;34m(\u001b[0m\u001b[0minput\u001b[0m\u001b[0;34m(\u001b[0m\u001b[0;34m'rows : '\u001b[0m\u001b[0;34m)\u001b[0m\u001b[0;34m)\u001b[0m\u001b[0;34m\u001b[0m\u001b[0;34m\u001b[0m\u001b[0m\n\u001b[1;32m      3\u001b[0m \u001b[0mn\u001b[0m \u001b[0;34m=\u001b[0m \u001b[0mint\u001b[0m\u001b[0;34m(\u001b[0m\u001b[0minput\u001b[0m\u001b[0;34m(\u001b[0m\u001b[0;34m'columns : '\u001b[0m\u001b[0;34m)\u001b[0m\u001b[0;34m)\u001b[0m\u001b[0;34m\u001b[0m\u001b[0;34m\u001b[0m\u001b[0m\n\u001b[0;32m----> 4\u001b[0;31m \u001b[0mx\u001b[0m \u001b[0;34m=\u001b[0m \u001b[0mnp\u001b[0m\u001b[0;34m.\u001b[0m\u001b[0marray\u001b[0m\u001b[0;34m(\u001b[0m\u001b[0mlist\u001b[0m\u001b[0;34m(\u001b[0m\u001b[0mmap\u001b[0m\u001b[0;34m(\u001b[0m\u001b[0mint\u001b[0m\u001b[0;34m,\u001b[0m\u001b[0minput\u001b[0m\u001b[0;34m(\u001b[0m\u001b[0;34m)\u001b[0m\u001b[0;34m.\u001b[0m\u001b[0msplit\u001b[0m\u001b[0;34m(\u001b[0m\u001b[0;34m)\u001b[0m\u001b[0;34m)\u001b[0m\u001b[0;34m)\u001b[0m\u001b[0;34m)\u001b[0m\u001b[0;34m.\u001b[0m\u001b[0mreshape\u001b[0m\u001b[0;34m(\u001b[0m\u001b[0;34m(\u001b[0m\u001b[0mm\u001b[0m\u001b[0;34m,\u001b[0m \u001b[0mn\u001b[0m\u001b[0;34m)\u001b[0m\u001b[0;34m)\u001b[0m\u001b[0;34m\u001b[0m\u001b[0;34m\u001b[0m\u001b[0m\n\u001b[0m\u001b[1;32m      5\u001b[0m \u001b[0mprint\u001b[0m\u001b[0;34m(\u001b[0m\u001b[0;34m\"\\nArray:\"\u001b[0m\u001b[0;34m)\u001b[0m\u001b[0;34m\u001b[0m\u001b[0;34m\u001b[0m\u001b[0m\n\u001b[1;32m      6\u001b[0m \u001b[0mprint\u001b[0m\u001b[0;34m(\u001b[0m\u001b[0mx\u001b[0m\u001b[0;34m)\u001b[0m\u001b[0;34m\u001b[0m\u001b[0;34m\u001b[0m\u001b[0m\n",
            "\u001b[0;31mValueError\u001b[0m: invalid literal for int() with base 10: '80%'"
          ]
        }
      ],
      "source": [
        "import numpy as np\n",
        "m = int(input('rows : '))\n",
        "n = int(input('columns : '))\n",
        "x = np.array(list(map(int,input().split()))).reshape((m, n))\n",
        "print(\"\\nArray:\")\n",
        "print(x)\n",
        "r1 = np.percentile(x, 80, 1)\n",
        "print(\"\\n80th percentile for all elements of the said array along the second axis : \")\n",
        "print(r1)"
      ]
    },
    {
      "cell_type": "code",
      "source": [
        "import numpy as np\n",
        "\n",
        "m = int(input('rows : '))\n",
        "n = int(input('columns : '))\n",
        "x = np.array(list(map(int, input().split()))).reshape((m, n))\n",
        "\n",
        "print(\"\\nArray:\")\n",
        "print(x)\n",
        "\n",
        "# Calculate 80th percentile along the second axis (axis=1)\n",
        "r1 = np.percentile(x, 80, axis=1)\n",
        "print(\"\\n80th percentile for all elements of the said array along the second axis:\")\n",
        "print(r1)\n"
      ],
      "metadata": {
        "colab": {
          "base_uri": "https://localhost:8080/"
        },
        "id": "hBNLkI2zi5GC",
        "outputId": "e5351ea9-7bb8-4909-91d3-f921b01ccd83"
      },
      "id": "hBNLkI2zi5GC",
      "execution_count": null,
      "outputs": [
        {
          "output_type": "stream",
          "name": "stdout",
          "text": [
            "rows : 3\n",
            "columns : 3\n",
            "80 60 70 80 90 80 70 80 90\n",
            "\n",
            "Array:\n",
            "[[80 60 70]\n",
            " [80 90 80]\n",
            " [70 80 90]]\n",
            "\n",
            "80th percentile for all elements of the said array along the second axis:\n",
            "[76. 86. 86.]\n"
          ]
        }
      ]
    },
    {
      "cell_type": "markdown",
      "id": "090c4f80",
      "metadata": {
        "id": "090c4f80"
      },
      "source": [
        "#### 12. write a numpy program to compute the median of flattned given array."
      ]
    },
    {
      "cell_type": "code",
      "execution_count": null,
      "id": "0572d2e9",
      "metadata": {
        "colab": {
          "base_uri": "https://localhost:8080/"
        },
        "id": "0572d2e9",
        "outputId": "e94705e7-dfd9-4347-9d31-578a7dc1ad90"
      },
      "outputs": [
        {
          "output_type": "stream",
          "name": "stdout",
          "text": [
            "rows : 3\n",
            "columns : 3\n",
            "80 90 70 70 80 90 90 80 70\n",
            "\n",
            "Original array:\n",
            "[[80 90 70]\n",
            " [70 80 90]\n",
            " [90 80 70]]\n",
            "\n",
            "Median of said array:\n",
            "80.0\n"
          ]
        }
      ],
      "source": [
        "import numpy as np\n",
        "m = int(input('rows : '))\n",
        "n = int(input('columns : '))\n",
        "x = np.array(list(map(int,input().split()))).reshape((m, n))\n",
        "print(\"\\nOriginal array:\")\n",
        "print(x)\n",
        "r1 =  np.median(x)\n",
        "print(\"\\nMedian of said array:\")\n",
        "print(r1)\n"
      ]
    },
    {
      "cell_type": "markdown",
      "id": "85f4c23a",
      "metadata": {
        "id": "85f4c23a"
      },
      "source": [
        "#### 13. write a python program to compute the weighted of the given array."
      ]
    },
    {
      "cell_type": "code",
      "execution_count": null,
      "id": "2b108d67",
      "metadata": {
        "colab": {
          "base_uri": "https://localhost:8080/"
        },
        "id": "2b108d67",
        "outputId": "36cab7c7-30da-4032-b3c8-a77b56b9af79"
      },
      "outputs": [
        {
          "output_type": "stream",
          "name": "stdout",
          "text": [
            "\n",
            "Original array:\n",
            "[0 1 2 3 4]\n",
            "\n",
            "Weighted average of the said array:\n",
            "2.6666666666666665\n"
          ]
        }
      ],
      "source": [
        "import numpy as np\n",
        "x = np.array([0,1,2,3,4])\n",
        "print(\"\\nOriginal array:\")\n",
        "print(x)\n",
        "weights = np.arange(1, 6)\n",
        "r1 = np.average(x, weights=weights)\n",
        "r2 = (x*(weights/weights.sum())).sum()\n",
        "assert np.allclose(r1, r2)\n",
        "print(\"\\nWeighted average of the said array:\")\n",
        "print(r1)"
      ]
    },
    {
      "cell_type": "markdown",
      "id": "84b8541b",
      "metadata": {
        "id": "84b8541b"
      },
      "source": [
        "#### 14. Write a Numpy program to compute the covarience matrix of two given array."
      ]
    },
    {
      "cell_type": "code",
      "execution_count": null,
      "id": "c782c71a",
      "metadata": {
        "colab": {
          "base_uri": "https://localhost:8080/"
        },
        "id": "c782c71a",
        "outputId": "11693f1e-5ab6-47d5-cd76-8a90f829252a"
      },
      "outputs": [
        {
          "output_type": "stream",
          "name": "stdout",
          "text": [
            "array1 : 2 4 6 8\n",
            "array2 : 1 3 5 7 \n",
            "\n",
            "Original array1:\n",
            "[2 4 6 8]\n",
            "\n",
            "Original array1:\n",
            "[1 3 5 7]\n",
            "\n",
            "Covariance matrix of the said arrays:\n",
            " [[6.66666667 6.66666667]\n",
            " [6.66666667 6.66666667]]\n"
          ]
        }
      ],
      "source": [
        "import numpy as np\n",
        "array1 = np.array(list(map(int,input('array1 : ').split())))\n",
        "array2 = np.array(list(map(int,input('array2 : ').split())))\n",
        "print(\"\\nOriginal array1:\")\n",
        "print(array1)\n",
        "print(\"\\nOriginal array1:\")\n",
        "print(array2)\n",
        "print(\"\\nCovariance matrix of the said arrays:\\n\",np.cov(array1, array2))"
      ]
    },
    {
      "cell_type": "markdown",
      "id": "1fd3c477",
      "metadata": {
        "id": "1fd3c477"
      },
      "source": [
        "#### 15. write a NumPy program to compute cross-corelation of two given arrays."
      ]
    },
    {
      "cell_type": "code",
      "execution_count": null,
      "id": "3d1c75a6",
      "metadata": {
        "colab": {
          "base_uri": "https://localhost:8080/"
        },
        "id": "3d1c75a6",
        "outputId": "da60d6a3-d87f-4a1a-8a58-2c582b680e67"
      },
      "outputs": [
        {
          "output_type": "stream",
          "name": "stdout",
          "text": [
            "array1 : 1 2 3 \n",
            "array2 : 0 1 0.5\n",
            "\n",
            "Original array1:\n",
            "[1. 2. 3.]\n",
            "\n",
            "Original array2:\n",
            "[0.  1.  0.5]\n",
            "\n",
            "Cross-correlation of the said arrays:\n",
            " [3.5]\n"
          ]
        }
      ],
      "source": [
        "import numpy as np\n",
        "\n",
        "array1 = np.array(list(map(float, input('array1 : ').split())))\n",
        "array2 = np.array(list(map(float, input('array2 : ').split())))\n",
        "\n",
        "print(\"\\nOriginal array1:\")\n",
        "print(array1)\n",
        "\n",
        "print(\"\\nOriginal array2:\")\n",
        "print(array2)\n",
        "\n",
        "print(\"\\nCross-correlation of the said arrays:\\n\", np.correlate(array1, array2))\n"
      ]
    },
    {
      "cell_type": "markdown",
      "id": "2d4c8850",
      "metadata": {
        "id": "2d4c8850"
      },
      "source": [
        "#### 16. write a python program to compute the weighted average along the specified axis of the given flattened array"
      ]
    },
    {
      "cell_type": "code",
      "execution_count": null,
      "id": "a2d2781a",
      "metadata": {
        "colab": {
          "base_uri": "https://localhost:8080/"
        },
        "id": "a2d2781a",
        "outputId": "9567883c-f87d-4df1-9c2b-360534cb1a35"
      },
      "outputs": [
        {
          "output_type": "stream",
          "name": "stdout",
          "text": [
            "rows : 3\n",
            "columns : 3\n",
            "array : 9 8 7 6 5 4 3 2 1 \n",
            "Original flattened array:\n",
            "[[9. 8. 7.]\n",
            " [6. 5. 4.]\n",
            " [3. 2. 1.]]\n",
            "Weighted average along the specified axis of the above flattened array:\n",
            "[7.8 4.8 1.8]\n"
          ]
        }
      ],
      "source": [
        "import numpy as np\n",
        "m = int(input('rows : '))\n",
        "n = int(input('columns : '))\n",
        "a = np.array(list(map(float,input('array : ').split()))).reshape((m,n))\n",
        "print(\"Original flattened array:\")\n",
        "print(a)\n",
        "print(\"Weighted average along the specified axis of the above flattened array:\")\n",
        "print(np.average(a, axis=1, weights=[1./4, 2./4, 2./4]))"
      ]
    }
  ],
  "metadata": {
    "kernelspec": {
      "display_name": "Python 3 (ipykernel)",
      "language": "python",
      "name": "python3"
    },
    "language_info": {
      "codemirror_mode": {
        "name": "ipython",
        "version": 3
      },
      "file_extension": ".py",
      "mimetype": "text/x-python",
      "name": "python",
      "nbconvert_exporter": "python",
      "pygments_lexer": "ipython3",
      "version": "3.9.12"
    },
    "colab": {
      "provenance": []
    }
  },
  "nbformat": 4,
  "nbformat_minor": 5
}